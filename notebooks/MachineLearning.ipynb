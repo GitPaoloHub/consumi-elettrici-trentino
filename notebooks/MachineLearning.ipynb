{
 "cells": [
  {
   "cell_type": "markdown",
   "id": "11a4c05d",
   "metadata": {},
   "source": [
    "# Machine learning\n",
    "in questo notebook suddiviso in due, una parte per la **classificazione** e l'altra per la **regressione** verrano applicate le tecniche di machine learning inparate a lezione per estrapolare maggiori informazioni dai nostri dati"
   ]
  },
  {
   "cell_type": "markdown",
   "id": "4fea4473",
   "metadata": {},
   "source": [
    "## regressione\n",
    "cercare di prevedere i consumi di energia per tutta la provincia e una cella/zona di Trento o Rovereto considerando i dati relativi a 3 giorni precedenti\n",
    "per farlo devo crearmi un nuovo dataframe tale che come colonne abbia i consumi giornalieri(8:00-19:00) e serali(19:00-0:00), temperatura media di giorno e sera (ignoro le precipitazioni in quanto avevo visto poco correlate ai consumi) e giorno della settimana del giorno da prevedere, quidi 13 colonne di features, e una colonna di target con i consumi del giorno dopo\n",
    "ogni riga è un giorno ma noto subito che non posso considerare tutti e 61 i giorni a disposizione ma per ovvi motivi devo scartare i primi 3 giorni di novembre."
   ]
  },
  {
   "cell_type": "code",
   "execution_count": 84,
   "id": "706fd322",
   "metadata": {},
   "outputs": [],
   "source": [
    "import pandas as pd\n",
    "import numpy as np\n",
    "import geopandas as gpd\n",
    "import matplotlib.pyplot  as plt\n",
    "import pickle\n",
    "\n",
    "# custom lib\n",
    "import sys\n",
    "sys.path.append('../functions')\n",
    "import ml_lib as ml"
   ]
  },
  {
   "cell_type": "code",
   "execution_count": 85,
   "id": "16a52bba",
   "metadata": {},
   "outputs": [],
   "source": [
    "# funzioni di sk-learn\n",
    "from sklearn.pipeline import Pipeline\n",
    "from sklearn.ensemble import RandomForestClassifier, RandomForestRegressor\n",
    "from sklearn.model_selection import GridSearchCV\n",
    "from sklearn.preprocessing import StandardScaler\n",
    "from sklearn.metrics import matthews_corrcoef, r2_score, accuracy_score, confusion_matrix\n",
    "from sklearn.metrics import plot_confusion_matrix\n",
    "\n",
    "from sklearn.model_selection import train_test_split"
   ]
  },
  {
   "cell_type": "code",
   "execution_count": 86,
   "id": "219b4b6b",
   "metadata": {},
   "outputs": [],
   "source": [
    "\n",
    "weather = pd.read_pickle(\"../data/processed/WEATHER.pkl\")\n",
    "grid = pd.read_pickle(\"../data/processed/GRID.pkl\")\n",
    "consumi = pd.read_pickle(\"../data/processed/CONSUMI.pkl\")"
   ]
  },
  {
   "cell_type": "code",
   "execution_count": 72,
   "id": "dfb72565",
   "metadata": {},
   "outputs": [],
   "source": [
    "#richiamo dalla mia libreria la funzione che mi prepara i due dataframe smstando consumi e temperature\n",
    "#vengono costruiti due dataframe simili, uno con i dati relativi a tutta la regione e uno con quelli relativi alla cella 2737 \n",
    "#nell'area urbana di Rovereto\n",
    "consumi_tot,consumi_cella=ml.df_regressione()"
   ]
  },
  {
   "cell_type": "markdown",
   "id": "1f5d5d66",
   "metadata": {},
   "source": [
    "per la regressione usiamo la funzione di sklearn RandomForestRegressor\n",
    "di seguito quindi scriverò una funzione che crerà un pipeline che per prima cosa applicherà una trasformazione dei miei dati, quindi attraverso OneHot adatterà i dati categorici per poi riscalare tutto con con StandardScaler\n",
    "dopo di che per migliorare la regressione verrà fatta una cross validation variando vari parametri delle RF"
   ]
  },
  {
   "cell_type": "code",
   "execution_count": 73,
   "id": "8fb51dd3",
   "metadata": {},
   "outputs": [],
   "source": [
    "def OneHot_fun(df,cat):\n",
    "    # cat è il nome delle colonne categoriche\n",
    "    for i in cat:\n",
    "        df=pd.concat([df, pd.get_dummies(df[i])], axis=1)\n",
    "        df.drop(columns=[i], inplace=True)\n",
    "    return df\n",
    "    "
   ]
  },
  {
   "cell_type": "code",
   "execution_count": 74,
   "id": "ff1a4ec6",
   "metadata": {},
   "outputs": [],
   "source": [
    "def RFregressor(X, y, categorici):\n",
    "    '''la funzione chiede in input il dataframe delle features X, la colonna dei target y e di specificare\n",
    "    quale siano le colonne in x dei dati categorici'''\n",
    "    \n",
    "    # splittiamo X in insieme di test e di training con la funzione train_test_split\n",
    "    X_train, X_test, y_train, y_test = train_test_split(X, y, test_size=0.4)\n",
    "    \n",
    "    # volevo mettere l'encoder nella pipeline ma non sono riuscito, lo faccio qui rozzamente e pace\n",
    "    X_train=OneHot_fun(X_train,categorici)\n",
    "    X_test=OneHot_fun(X_test,categorici) \n",
    "    \n",
    "    pipe = Pipeline([\n",
    "        ('scaler', StandardScaler()),\n",
    "        ('regressor', RandomForestRegressor())    \n",
    "    ])\n",
    "    \n",
    "    # griglia dei parametri per la CV (non voglio esagerare)\n",
    "    param_grid = {\n",
    "        'regressor__n_estimators': [10,20,35,60],\n",
    "        'regressor__max_depth': [10,20,30,None],\n",
    "        'regressor__min_samples_split': [2, 5, 10]  \n",
    "    }\n",
    "    gridsearch = GridSearchCV(pipe, param_grid=param_grid)\n",
    "    \n",
    "    #adesso procediamo con l'effettivo learnin e vediamo quanto buono è l'r2 score\n",
    "    gridsearch.fit(X_train, y_train)\n",
    "    y_pred = gridsearch.predict(X_test)\n",
    "    print(\"r2_score = \", r2_score(y_test, y_pred))\n",
    "    return gridsearch"
   ]
  },
  {
   "cell_type": "markdown",
   "id": "b9ce312c",
   "metadata": {},
   "source": [
    "### modelli per i consumi totali di giorno e sera:"
   ]
  },
  {
   "cell_type": "code",
   "execution_count": 75,
   "id": "8bae6027",
   "metadata": {},
   "outputs": [
    {
     "data": {
      "text/html": [
       "<div>\n",
       "<style scoped>\n",
       "    .dataframe tbody tr th:only-of-type {\n",
       "        vertical-align: middle;\n",
       "    }\n",
       "\n",
       "    .dataframe tbody tr th {\n",
       "        vertical-align: top;\n",
       "    }\n",
       "\n",
       "    .dataframe thead th {\n",
       "        text-align: right;\n",
       "    }\n",
       "</style>\n",
       "<table border=\"1\" class=\"dataframe\">\n",
       "  <thead>\n",
       "    <tr style=\"text-align: right;\">\n",
       "      <th></th>\n",
       "      <th>c_g_3</th>\n",
       "      <th>t_g_3</th>\n",
       "      <th>c_s_3</th>\n",
       "      <th>t_s_3</th>\n",
       "      <th>c_g_2</th>\n",
       "      <th>t_g_2</th>\n",
       "      <th>c_s_2</th>\n",
       "      <th>t_s_2</th>\n",
       "      <th>c_g_1</th>\n",
       "      <th>t_g_1</th>\n",
       "      <th>c_s_1</th>\n",
       "      <th>t_s_1</th>\n",
       "      <th>week</th>\n",
       "    </tr>\n",
       "  </thead>\n",
       "  <tbody>\n",
       "    <tr>\n",
       "      <th>0</th>\n",
       "      <td>328042.848590</td>\n",
       "      <td>11.750253</td>\n",
       "      <td>161466.406053</td>\n",
       "      <td>10.324444</td>\n",
       "      <td>354395.134730</td>\n",
       "      <td>11.115657</td>\n",
       "      <td>160960.645357</td>\n",
       "      <td>9.884444</td>\n",
       "      <td>328042.848590</td>\n",
       "      <td>11.972727</td>\n",
       "      <td>157565.250435</td>\n",
       "      <td>8.055000</td>\n",
       "      <td>mon</td>\n",
       "    </tr>\n",
       "    <tr>\n",
       "      <th>1</th>\n",
       "      <td>354395.134730</td>\n",
       "      <td>11.115657</td>\n",
       "      <td>160960.645357</td>\n",
       "      <td>9.884444</td>\n",
       "      <td>325753.744594</td>\n",
       "      <td>11.972727</td>\n",
       "      <td>157565.250435</td>\n",
       "      <td>8.055000</td>\n",
       "      <td>354395.134730</td>\n",
       "      <td>7.243182</td>\n",
       "      <td>190621.963244</td>\n",
       "      <td>6.746111</td>\n",
       "      <td>tue</td>\n",
       "    </tr>\n",
       "    <tr>\n",
       "      <th>2</th>\n",
       "      <td>325753.744594</td>\n",
       "      <td>11.972727</td>\n",
       "      <td>157565.250435</td>\n",
       "      <td>8.055000</td>\n",
       "      <td>510347.959084</td>\n",
       "      <td>7.243182</td>\n",
       "      <td>190621.963244</td>\n",
       "      <td>6.746111</td>\n",
       "      <td>325753.744594</td>\n",
       "      <td>9.748737</td>\n",
       "      <td>193257.218736</td>\n",
       "      <td>6.862778</td>\n",
       "      <td>wed</td>\n",
       "    </tr>\n",
       "    <tr>\n",
       "      <th>3</th>\n",
       "      <td>510347.959084</td>\n",
       "      <td>7.243182</td>\n",
       "      <td>190621.963244</td>\n",
       "      <td>6.746111</td>\n",
       "      <td>481315.438209</td>\n",
       "      <td>9.748737</td>\n",
       "      <td>193257.218736</td>\n",
       "      <td>6.862778</td>\n",
       "      <td>510347.959084</td>\n",
       "      <td>10.436364</td>\n",
       "      <td>191466.688737</td>\n",
       "      <td>6.715000</td>\n",
       "      <td>thu</td>\n",
       "    </tr>\n",
       "    <tr>\n",
       "      <th>4</th>\n",
       "      <td>481315.438209</td>\n",
       "      <td>9.748737</td>\n",
       "      <td>193257.218736</td>\n",
       "      <td>6.862778</td>\n",
       "      <td>484312.304155</td>\n",
       "      <td>10.436364</td>\n",
       "      <td>191466.688737</td>\n",
       "      <td>6.715000</td>\n",
       "      <td>481315.438209</td>\n",
       "      <td>10.405051</td>\n",
       "      <td>191565.074681</td>\n",
       "      <td>6.973889</td>\n",
       "      <td>fri</td>\n",
       "    </tr>\n",
       "  </tbody>\n",
       "</table>\n",
       "</div>"
      ],
      "text/plain": [
       "           c_g_3      t_g_3          c_s_3      t_s_3          c_g_2  \\\n",
       "0  328042.848590  11.750253  161466.406053  10.324444  354395.134730   \n",
       "1  354395.134730  11.115657  160960.645357   9.884444  325753.744594   \n",
       "2  325753.744594  11.972727  157565.250435   8.055000  510347.959084   \n",
       "3  510347.959084   7.243182  190621.963244   6.746111  481315.438209   \n",
       "4  481315.438209   9.748737  193257.218736   6.862778  484312.304155   \n",
       "\n",
       "       t_g_2          c_s_2     t_s_2          c_g_1      t_g_1  \\\n",
       "0  11.115657  160960.645357  9.884444  328042.848590  11.972727   \n",
       "1  11.972727  157565.250435  8.055000  354395.134730   7.243182   \n",
       "2   7.243182  190621.963244  6.746111  325753.744594   9.748737   \n",
       "3   9.748737  193257.218736  6.862778  510347.959084  10.436364   \n",
       "4  10.436364  191466.688737  6.715000  481315.438209  10.405051   \n",
       "\n",
       "           c_s_1     t_s_1 week  \n",
       "0  157565.250435  8.055000  mon  \n",
       "1  190621.963244  6.746111  tue  \n",
       "2  193257.218736  6.862778  wed  \n",
       "3  191466.688737  6.715000  thu  \n",
       "4  191565.074681  6.973889  fri  "
      ]
     },
     "execution_count": 75,
     "metadata": {},
     "output_type": "execute_result"
    }
   ],
   "source": [
    "data_tot=ml.crea_df_reg(consumi_tot)\n",
    "\n",
    "# Smisto target e features\n",
    "target_tot_g = data_tot['target_g']\n",
    "target_tot_s = data_tot['target_s']\n",
    "data_tot.drop(columns=['target_g', 'target_s'], inplace=True)\n",
    "\n",
    "data_tot.head()"
   ]
  },
  {
   "cell_type": "code",
   "execution_count": 76,
   "id": "9a8b39ae",
   "metadata": {},
   "outputs": [
    {
     "name": "stdout",
     "output_type": "stream",
     "text": [
      "per il giorno:\n",
      "r2_score =  -0.6957710951950198\n",
      "parametri regressore:\t {'regressor__max_depth': 10, 'regressor__min_samples_split': 2, 'regressor__n_estimators': 10}\n",
      "\n",
      "per la sera:\n",
      "r2_score =  -0.11737317022711524\n",
      "parametri regressore:\t {'regressor__max_depth': 10, 'regressor__min_samples_split': 5, 'regressor__n_estimators': 10}\n"
     ]
    }
   ],
   "source": [
    "print('per il giorno:')\n",
    "modello_tot_g=RFregressor(data_tot, target_tot_g, ['week'])\n",
    "print('parametri regressore:\\t',modello_tot_g.best_params_)\n",
    "\n",
    "print('\\nper la sera:')\n",
    "modello_tot_s=RFregressor(data_tot, target_tot_s, ['week'])\n",
    "print('parametri regressore:\\t',modello_tot_s.best_params_)"
   ]
  },
  {
   "cell_type": "code",
   "execution_count": 77,
   "id": "5ea02e01",
   "metadata": {},
   "outputs": [],
   "source": [
    "#salvo i miei modelli nella cartella models\n",
    "pickle.dump(modello_tot_g, open(\"../models/ reg_provincia_giorno.sav\", 'wb'))\n",
    "pickle.dump(modello_tot_s, open(\"../models/ reg_provincia_sera.sav\", 'wb'))\n"
   ]
  },
  {
   "cell_type": "markdown",
   "id": "ce5c1101",
   "metadata": {},
   "source": [
    "### modelli per i consumi della cella di Rovereto di giorno e sera"
   ]
  },
  {
   "cell_type": "code",
   "execution_count": 78,
   "id": "4e42c42b",
   "metadata": {},
   "outputs": [
    {
     "data": {
      "text/html": [
       "<div>\n",
       "<style scoped>\n",
       "    .dataframe tbody tr th:only-of-type {\n",
       "        vertical-align: middle;\n",
       "    }\n",
       "\n",
       "    .dataframe tbody tr th {\n",
       "        vertical-align: top;\n",
       "    }\n",
       "\n",
       "    .dataframe thead th {\n",
       "        text-align: right;\n",
       "    }\n",
       "</style>\n",
       "<table border=\"1\" class=\"dataframe\">\n",
       "  <thead>\n",
       "    <tr style=\"text-align: right;\">\n",
       "      <th></th>\n",
       "      <th>c_g_3</th>\n",
       "      <th>t_g_3</th>\n",
       "      <th>c_s_3</th>\n",
       "      <th>t_s_3</th>\n",
       "      <th>c_g_2</th>\n",
       "      <th>t_g_2</th>\n",
       "      <th>c_s_2</th>\n",
       "      <th>t_s_2</th>\n",
       "      <th>c_g_1</th>\n",
       "      <th>t_g_1</th>\n",
       "      <th>c_s_1</th>\n",
       "      <th>t_s_1</th>\n",
       "      <th>week</th>\n",
       "    </tr>\n",
       "  </thead>\n",
       "  <tbody>\n",
       "    <tr>\n",
       "      <th>0</th>\n",
       "      <td>2673.858607</td>\n",
       "      <td>15.709091</td>\n",
       "      <td>1310.656586</td>\n",
       "      <td>13.22</td>\n",
       "      <td>3067.036360</td>\n",
       "      <td>14.118182</td>\n",
       "      <td>1342.839473</td>\n",
       "      <td>12.92</td>\n",
       "      <td>2673.858607</td>\n",
       "      <td>15.418182</td>\n",
       "      <td>1322.050447</td>\n",
       "      <td>13.78</td>\n",
       "      <td>mon</td>\n",
       "    </tr>\n",
       "    <tr>\n",
       "      <th>1</th>\n",
       "      <td>3067.036360</td>\n",
       "      <td>14.118182</td>\n",
       "      <td>1342.839473</td>\n",
       "      <td>12.92</td>\n",
       "      <td>2859.077998</td>\n",
       "      <td>15.418182</td>\n",
       "      <td>1322.050447</td>\n",
       "      <td>13.78</td>\n",
       "      <td>3067.036360</td>\n",
       "      <td>9.618182</td>\n",
       "      <td>1494.862638</td>\n",
       "      <td>8.78</td>\n",
       "      <td>tue</td>\n",
       "    </tr>\n",
       "    <tr>\n",
       "      <th>2</th>\n",
       "      <td>2859.077998</td>\n",
       "      <td>15.418182</td>\n",
       "      <td>1322.050447</td>\n",
       "      <td>13.78</td>\n",
       "      <td>3591.427118</td>\n",
       "      <td>9.618182</td>\n",
       "      <td>1494.862638</td>\n",
       "      <td>8.78</td>\n",
       "      <td>2859.077998</td>\n",
       "      <td>12.872727</td>\n",
       "      <td>1516.158408</td>\n",
       "      <td>10.46</td>\n",
       "      <td>wed</td>\n",
       "    </tr>\n",
       "    <tr>\n",
       "      <th>3</th>\n",
       "      <td>3591.427118</td>\n",
       "      <td>9.618182</td>\n",
       "      <td>1494.862638</td>\n",
       "      <td>8.78</td>\n",
       "      <td>3350.809880</td>\n",
       "      <td>12.872727</td>\n",
       "      <td>1516.158408</td>\n",
       "      <td>10.46</td>\n",
       "      <td>3591.427118</td>\n",
       "      <td>13.100000</td>\n",
       "      <td>1513.768867</td>\n",
       "      <td>9.48</td>\n",
       "      <td>thu</td>\n",
       "    </tr>\n",
       "    <tr>\n",
       "      <th>4</th>\n",
       "      <td>3350.809880</td>\n",
       "      <td>12.872727</td>\n",
       "      <td>1516.158408</td>\n",
       "      <td>10.46</td>\n",
       "      <td>3294.780712</td>\n",
       "      <td>13.100000</td>\n",
       "      <td>1513.768867</td>\n",
       "      <td>9.48</td>\n",
       "      <td>3350.809880</td>\n",
       "      <td>12.790909</td>\n",
       "      <td>1512.991327</td>\n",
       "      <td>11.04</td>\n",
       "      <td>fri</td>\n",
       "    </tr>\n",
       "  </tbody>\n",
       "</table>\n",
       "</div>"
      ],
      "text/plain": [
       "         c_g_3      t_g_3        c_s_3  t_s_3        c_g_2      t_g_2  \\\n",
       "0  2673.858607  15.709091  1310.656586  13.22  3067.036360  14.118182   \n",
       "1  3067.036360  14.118182  1342.839473  12.92  2859.077998  15.418182   \n",
       "2  2859.077998  15.418182  1322.050447  13.78  3591.427118   9.618182   \n",
       "3  3591.427118   9.618182  1494.862638   8.78  3350.809880  12.872727   \n",
       "4  3350.809880  12.872727  1516.158408  10.46  3294.780712  13.100000   \n",
       "\n",
       "         c_s_2  t_s_2        c_g_1      t_g_1        c_s_1  t_s_1 week  \n",
       "0  1342.839473  12.92  2673.858607  15.418182  1322.050447  13.78  mon  \n",
       "1  1322.050447  13.78  3067.036360   9.618182  1494.862638   8.78  tue  \n",
       "2  1494.862638   8.78  2859.077998  12.872727  1516.158408  10.46  wed  \n",
       "3  1516.158408  10.46  3591.427118  13.100000  1513.768867   9.48  thu  \n",
       "4  1513.768867   9.48  3350.809880  12.790909  1512.991327  11.04  fri  "
      ]
     },
     "execution_count": 78,
     "metadata": {},
     "output_type": "execute_result"
    }
   ],
   "source": [
    "data_cella=ml.crea_df_reg(consumi_cella)\n",
    "# Smisto target e features\n",
    "target_cella_g = data_cella['target_g']\n",
    "target_cella_s = data_cella['target_s']\n",
    "data_cella.drop(columns=['target_g', 'target_s'], inplace=True)\n",
    "\n",
    "data_cella.head()"
   ]
  },
  {
   "cell_type": "code",
   "execution_count": 93,
   "id": "6eec1059",
   "metadata": {},
   "outputs": [
    {
     "name": "stdout",
     "output_type": "stream",
     "text": [
      "per il giorno:\n",
      "r2_score =  0.17948424329682455\n",
      "parametri regressore:\t {'regressor__max_depth': None, 'regressor__min_samples_split': 2, 'regressor__n_estimators': 20}\n",
      "\n",
      "per la sera:\n",
      "r2_score =  0.19312374579926728\n",
      "parametri regressore:\t {'regressor__max_depth': None, 'regressor__min_samples_split': 2, 'regressor__n_estimators': 60}\n"
     ]
    }
   ],
   "source": [
    "print('per il giorno:')\n",
    "modello_cella_g=RFregressor(data_cella, target_cella_g, ['week'])\n",
    "print('parametri regressore:\\t',modello_cella_g.best_params_)\n",
    "\n",
    "print('\\nper la sera:')\n",
    "modello_cella_s=RFregressor(data_cella, target_cella_s, ['week'])\n",
    "print('parametri regressore:\\t',modello_cella_s.best_params_)"
   ]
  },
  {
   "cell_type": "code",
   "execution_count": 102,
   "id": "94c811e3",
   "metadata": {},
   "outputs": [],
   "source": [
    "#salvo i miei modelli nella cartella models\n",
    "pickle.dump(modello_cella_g, open(\"../models/ reg_rovereto_giorno.sav\", 'wb'))\n",
    "pickle.dump(modello_cella_s, open(\"../models/ reg_rovereto_sera.sav\", 'wb'))"
   ]
  },
  {
   "cell_type": "markdown",
   "id": "8f1f7d82",
   "metadata": {},
   "source": [
    "## commenti\n",
    "poco da dire, stando agli score i modelli sono pietosi, non avendo molta esperienza non posso dire se ciò è dovuto alle scelte fatte nella costruzione del regressore (alla fine cambiando un po' i parametri che entrano nella CV ho visto che poco numma cambiava ma forse mi sfugge qualcosa di più sottile),\n",
    "probabilente avendo pochi dati è anche difficile pensare di tirare fuori un modello attendibile anche considerando l'irregolarità portati dalle feste di fine anno "
   ]
  },
  {
   "cell_type": "markdown",
   "id": "35a06069",
   "metadata": {},
   "source": [
    "## classificazione\n",
    "Cercare di prevedere la cella appartennete al territorio urbano di Trento con maggiori consumi nei giorni infrasettimanali.\n",
    "Il problema appare o troppo banale o troppo complicato, troppo banale perchè come mostrerò subito tra le 22 celle che compongono trento quella con i consumi più alti giorno per giorno è sempre la stessa (la 5201) per il fatto di aver più utenze,\n",
    "ha senso provare a vedere più che i consumi totali la cella che ha più consumi per utenze, a quel punto però si complica perchè succede che che ho piu celle che giorno per giorno conquistano il primato.\n",
    "il problema sta nel capire come formare in modo efficace il database da dare in pasto al classificatore\n",
    "\n",
    "vista la natura dell'esercizio in cui si chiede di predire in base ai dati dei giorni precedenti già capisco che le righe saranno dedicate ai vari giorni, quindi 61-3=58 righe, per le colonne non posso pensare di dedicare una colonna per il consumo giorno e sera di ognona delle 22 celle per 3 giorni precedenti, praticamente 132 colonne, il che non ha senso\n",
    "potrei limitarmi a scrivere i consumi totali di giorno e sera per i tre giorni precedenti, piu la cella con più consumi totali per giorno e sera dei tre giorni precedenti, sarebbero già tante colonne cosi, 13 se ci aggiungiamo il giorno della settimana da predire, sono tantine e non so cosa potrebbe succedere nel momento in cui faccio l'OneHotencoder vista la presenza di 7 celle categoriche, probabilmente un disastro, quindi let's do it =D ----> si non mi funziona nulla, concludo  tenendo solo le 6 colonne dei consumi non totali ma della cella che ha avuto il primato per il tal giorno precedente, più una colonna per il giorno della settimana"
   ]
  },
  {
   "cell_type": "code",
   "execution_count": 81,
   "id": "5263c25e",
   "metadata": {},
   "outputs": [
    {
     "data": {
      "text/html": [
       "<div>\n",
       "<style scoped>\n",
       "    .dataframe tbody tr th:only-of-type {\n",
       "        vertical-align: middle;\n",
       "    }\n",
       "\n",
       "    .dataframe tbody tr th {\n",
       "        vertical-align: top;\n",
       "    }\n",
       "\n",
       "    .dataframe thead th {\n",
       "        text-align: right;\n",
       "    }\n",
       "</style>\n",
       "<table border=\"1\" class=\"dataframe\">\n",
       "  <thead>\n",
       "    <tr style=\"text-align: right;\">\n",
       "      <th></th>\n",
       "      <th>consumi_g_3</th>\n",
       "      <th>consumi_s_3</th>\n",
       "      <th>consumi_g_2</th>\n",
       "      <th>consumi_s_2</th>\n",
       "      <th>consumi_g_1</th>\n",
       "      <th>consumi_s_1</th>\n",
       "      <th>week</th>\n",
       "    </tr>\n",
       "  </thead>\n",
       "  <tbody>\n",
       "    <tr>\n",
       "      <th>0</th>\n",
       "      <td>8.116136</td>\n",
       "      <td>8.116136</td>\n",
       "      <td>8.607299</td>\n",
       "      <td>8.607299</td>\n",
       "      <td>7.817181</td>\n",
       "      <td>7.817181</td>\n",
       "      <td>mon</td>\n",
       "    </tr>\n",
       "    <tr>\n",
       "      <th>1</th>\n",
       "      <td>8.607299</td>\n",
       "      <td>8.607299</td>\n",
       "      <td>7.817181</td>\n",
       "      <td>7.817181</td>\n",
       "      <td>14.194540</td>\n",
       "      <td>14.194540</td>\n",
       "      <td>tue</td>\n",
       "    </tr>\n",
       "    <tr>\n",
       "      <th>2</th>\n",
       "      <td>7.817181</td>\n",
       "      <td>7.817181</td>\n",
       "      <td>14.194540</td>\n",
       "      <td>14.194540</td>\n",
       "      <td>13.372056</td>\n",
       "      <td>13.372056</td>\n",
       "      <td>wed</td>\n",
       "    </tr>\n",
       "    <tr>\n",
       "      <th>3</th>\n",
       "      <td>14.194540</td>\n",
       "      <td>14.194540</td>\n",
       "      <td>13.372056</td>\n",
       "      <td>13.372056</td>\n",
       "      <td>12.842878</td>\n",
       "      <td>12.842878</td>\n",
       "      <td>thu</td>\n",
       "    </tr>\n",
       "    <tr>\n",
       "      <th>4</th>\n",
       "      <td>13.372056</td>\n",
       "      <td>13.372056</td>\n",
       "      <td>12.842878</td>\n",
       "      <td>12.842878</td>\n",
       "      <td>13.547076</td>\n",
       "      <td>13.547076</td>\n",
       "      <td>fri</td>\n",
       "    </tr>\n",
       "  </tbody>\n",
       "</table>\n",
       "</div>"
      ],
      "text/plain": [
       "   consumi_g_3  consumi_s_3  consumi_g_2  consumi_s_2  consumi_g_1  \\\n",
       "0     8.116136     8.116136     8.607299     8.607299     7.817181   \n",
       "1     8.607299     8.607299     7.817181     7.817181    14.194540   \n",
       "2     7.817181     7.817181    14.194540    14.194540    13.372056   \n",
       "3    14.194540    14.194540    13.372056    13.372056    12.842878   \n",
       "4    13.372056    13.372056    12.842878    12.842878    13.547076   \n",
       "\n",
       "   consumi_s_1 week  \n",
       "0     7.817181  mon  \n",
       "1    14.194540  tue  \n",
       "2    13.372056  wed  \n",
       "3    12.842878  thu  \n",
       "4    13.547076  fri  "
      ]
     },
     "execution_count": 81,
     "metadata": {},
     "output_type": "execute_result"
    }
   ],
   "source": [
    "data=ml.crea_df_class()\n",
    "# Smisto target e features\n",
    "target_g = data['target_g']\n",
    "target_s = data['target_s']\n",
    "data.drop(columns=['target_g', 'target_s'], inplace=True)\n",
    "\n",
    "data.head()"
   ]
  },
  {
   "cell_type": "code",
   "execution_count": 82,
   "id": "3b33f46a",
   "metadata": {},
   "outputs": [],
   "source": [
    "def RFclassifier(X, y, categorici):\n",
    "    '''la funzione chiede in input il dataframe delle features X, la colonna dei target y e di specificare\n",
    "    quale siano le colonne in x dei dati categorici'''\n",
    "    \n",
    "    # splittiamo X in insieme di test e di training con la funzione train_test_split\n",
    "    X_train, X_test, y_train, y_test = train_test_split(X, y, test_size=0.4)\n",
    "    \n",
    "    # volevo mettere l'encoder nella pipeline ma non sono riuscito, lo faccio qui rozzamente e pace\n",
    "    X_train=OneHot_fun(X_train,categorici)\n",
    "    X_test=OneHot_fun(X_test,categorici) \n",
    "    \n",
    "    pipe = Pipeline([\n",
    "        ('scaler', StandardScaler()),\n",
    "        ('regressor', RandomForestClassifier())    \n",
    "    ])\n",
    "    \n",
    "    # griglia dei parametri per la CV (non voglio esagerare)\n",
    "    param_grid = {\n",
    "        'regressor__n_estimators': [10,20,35,60,100],\n",
    "        'regressor__max_depth': [10,20,30,None],\n",
    "        'regressor__min_samples_split': [2,5,10]  \n",
    "    }\n",
    "    gridsearch = GridSearchCV(pipe, param_grid=param_grid)\n",
    "    \n",
    "    #adesso procediamo con l'effettivo learning \n",
    "    gridsearch.fit(X_train, y_train)\n",
    "    y_pred = gridsearch.predict(X_test)\n",
    "    \n",
    "    #come indicatore di bontà andiamo a plottare la confusion matrix\n",
    "    #non avendo in generale a che fare con classificatore binari non \n",
    "    #possiamo usare estimatori con la ROC curve o la Precision-Recall \n",
    "    print('accuracy score = ',accuracy_score(y_test, y_pred))\n",
    "    print('matthews score = ',matthews_corrcoef(y_test, y_pred))\n",
    "    plot_confusion_matrix(gridsearch, X_test, y_test)\n",
    "    plt.show()\n",
    "    return gridsearch"
   ]
  },
  {
   "cell_type": "markdown",
   "id": "69c3980a",
   "metadata": {},
   "source": [
    "### modelli per la classificazione di giorno e sera"
   ]
  },
  {
   "cell_type": "code",
   "execution_count": 83,
   "id": "ffffd7ce",
   "metadata": {},
   "outputs": [
    {
     "name": "stdout",
     "output_type": "stream",
     "text": [
      "per il giorno:\n"
     ]
    },
    {
     "name": "stderr",
     "output_type": "stream",
     "text": [
      "C:\\Users\\Paolo\\anaconda3\\envs\\DataMining\\lib\\site-packages\\sklearn\\model_selection\\_split.py:665: UserWarning: The least populated class in y has only 1 members, which is less than n_splits=5.\n",
      "  warnings.warn((\"The least populated class in y has only %d\"\n"
     ]
    },
    {
     "name": "stdout",
     "output_type": "stream",
     "text": [
      "accuracy score =  0.7083333333333334\n",
      "matthews score =  0.4438126822992973\n"
     ]
    },
    {
     "data": {
      "image/png": "[encoded data removed]",
      "text/plain": [
       "<Figure size 640x480 with 2 Axes>"
      ]
     },
     "metadata": {},
     "output_type": "display_data"
    },
    {
     "name": "stdout",
     "output_type": "stream",
     "text": [
      "parametri classificatore:  {'regressor__max_depth': 20, 'regressor__min_samples_split': 2, 'regressor__n_estimators': 10}\n",
      "\n",
      "per la sera:\n"
     ]
    },
    {
     "name": "stderr",
     "output_type": "stream",
     "text": [
      "C:\\Users\\Paolo\\anaconda3\\envs\\DataMining\\lib\\site-packages\\sklearn\\model_selection\\_split.py:665: UserWarning: The least populated class in y has only 1 members, which is less than n_splits=5.\n",
      "  warnings.warn((\"The least populated class in y has only %d\"\n"
     ]
    },
    {
     "name": "stdout",
     "output_type": "stream",
     "text": [
      "accuracy score =  0.75\n",
      "matthews score =  0.5068532453425006\n"
     ]
    },
    {
     "data": {
      "image/png": "[encoded data removed]",
      "text/plain": [
       "<Figure size 640x480 with 2 Axes>"
      ]
     },
     "metadata": {},
     "output_type": "display_data"
    },
    {
     "name": "stdout",
     "output_type": "stream",
     "text": [
      "parametri classificatore:  {'regressor__max_depth': 20, 'regressor__min_samples_split': 2, 'regressor__n_estimators': 10}\n"
     ]
    }
   ],
   "source": [
    "print('per il giorno:')\n",
    "modello_g=RFclassifier(data, target_g, ['week'])\n",
    "print('parametri classificatore: ',modello_g.best_params_)\n",
    "\n",
    "print('\\nper la sera:')\n",
    "modello_s=RFclassifier(data, target_s, ['week'])\n",
    "print('parametri classificatore: ',modello_s.best_params_)"
   ]
  },
  {
   "cell_type": "code",
   "execution_count": 87,
   "id": "79676a92",
   "metadata": {},
   "outputs": [],
   "source": [
    "#salvo i miei modelli nella cartella models\n",
    "pickle.dump(modello_g, open(\"../models/ class_trento_giorno.sav\", 'wb'))\n",
    "pickle.dump(modello_s, open(\"../models/ class_trento_sera.sav\", 'wb'))"
   ]
  },
  {
   "cell_type": "markdown",
   "id": "d6afd565",
   "metadata": {},
   "source": [
    "## commenti\n",
    "ad essere sincero non mi aspettavo nulla di che visto il modo naif con cui ho costruito il dataframe per l'apprendimento, sperando in un qualche miracolo del machine learnin, però vedendo così i risultati delle matrici di confusione e dei due score sono relativamente soddisfatto dato che non sembrano essere totalmente random\n",
    "per il codice compare ogni tanto un errore di cui non mi è chiara l'origine anchè perchè non è consistente nel ripetersi"
   ]
  },
  {
   "cell_type": "code",
   "execution_count": null,
   "id": "1c677488",
   "metadata": {},
   "outputs": [],
   "source": []
  }
 ],
 "metadata": {
  "kernelspec": {
   "display_name": "Python 3",
   "language": "python",
   "name": "python3"
  },
  "language_info": {
   "codemirror_mode": {
    "name": "ipython",
    "version": 3
   },
   "file_extension": ".py",
   "mimetype": "text/x-python",
   "name": "python",
   "nbconvert_exporter": "python",
   "pygments_lexer": "ipython3",
   "version": "3.8.1"
  }
 },
 "nbformat": 4,
 "nbformat_minor": 5
}
